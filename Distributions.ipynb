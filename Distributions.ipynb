{
 "cells": [
  {
   "cell_type": "markdown",
   "metadata": {},
   "source": [
    "# Examples of different distributions, typical usa case and data type\n",
    "## Descrete\n",
    "### 1. Binomial (Bernoulli)\n",
    "\n",
    "\n",
    "## Continuous\n",
    "### 1. Poison\n",
    "\n",
    "### 2. Exponential\n",
    "\n",
    "### 3. Weibul\n",
    "\n",
    "### 4. Normal (Gaussian)\n",
    "\n",
    "### 5. t-Distribution\n",
    "\n"
   ]
  },
  {
   "cell_type": "code",
   "execution_count": 1,
   "metadata": {},
   "outputs": [],
   "source": [
    "import random\n",
    "import pandas as pd\n",
    "import numpy as np\n",
    "import matplotlib.pyplot as plt\n",
    "from scipy import stats\n",
    "from scipy.stats import nbinom, probplot\n",
    "import statsmodels.api as sm\n",
    "from statsmodels.base.model import GenericLikelihoodModel\n",
    "import sympy\n",
    "from sympy.abc import x, z"
   ]
  },
  {
   "cell_type": "code",
   "execution_count": 2,
   "metadata": {},
   "outputs": [
    {
     "data": {
      "text/html": [
       "<div>\n",
       "<style scoped>\n",
       "    .dataframe tbody tr th:only-of-type {\n",
       "        vertical-align: middle;\n",
       "    }\n",
       "\n",
       "    .dataframe tbody tr th {\n",
       "        vertical-align: top;\n",
       "    }\n",
       "\n",
       "    .dataframe thead th {\n",
       "        text-align: right;\n",
       "    }\n",
       "</style>\n",
       "<table border=\"1\" class=\"dataframe\">\n",
       "  <thead>\n",
       "    <tr style=\"text-align: right;\">\n",
       "      <th></th>\n",
       "      <th>dice_roll</th>\n",
       "    </tr>\n",
       "  </thead>\n",
       "  <tbody>\n",
       "    <tr>\n",
       "      <th>0</th>\n",
       "      <td>2</td>\n",
       "    </tr>\n",
       "    <tr>\n",
       "      <th>1</th>\n",
       "      <td>6</td>\n",
       "    </tr>\n",
       "    <tr>\n",
       "      <th>2</th>\n",
       "      <td>1</td>\n",
       "    </tr>\n",
       "    <tr>\n",
       "      <th>3</th>\n",
       "      <td>1</td>\n",
       "    </tr>\n",
       "    <tr>\n",
       "      <th>4</th>\n",
       "      <td>4</td>\n",
       "    </tr>\n",
       "  </tbody>\n",
       "</table>\n",
       "</div>"
      ],
      "text/plain": [
       "   dice_roll\n",
       "0          2\n",
       "1          6\n",
       "2          1\n",
       "3          1\n",
       "4          4"
      ]
     },
     "execution_count": 2,
     "metadata": {},
     "output_type": "execute_result"
    }
   ],
   "source": [
    "# Binomial distribution with parameters n and p \n",
    "# is the discrete probability distribution of the number \n",
    "# of successes in a sequence of n independent experiments.\n",
    "# p = 1, 1-p = 0\n",
    "# wiki: https://en.wikipedia.org/wiki/Binomial_distribution\n",
    "def dice_roll(size):\n",
    "    \"\"\" roll the d6, duh! \"\"\"\n",
    "    result = []\n",
    "    for _ in range(size):\n",
    "        result.append(random.randint(1,6))\n",
    "    return result\n",
    "\n",
    "rolls = dice_roll(10000)\n",
    "rolls_df = pd.DataFrame({'dice_roll':rolls})\n",
    "rolls_df.head(5)"
   ]
  },
  {
   "cell_type": "code",
   "execution_count": 3,
   "metadata": {},
   "outputs": [
    {
     "data": {
      "text/html": [
       "<div>\n",
       "<style scoped>\n",
       "    .dataframe tbody tr th:only-of-type {\n",
       "        vertical-align: middle;\n",
       "    }\n",
       "\n",
       "    .dataframe tbody tr th {\n",
       "        vertical-align: top;\n",
       "    }\n",
       "\n",
       "    .dataframe thead th {\n",
       "        text-align: right;\n",
       "    }\n",
       "</style>\n",
       "<table border=\"1\" class=\"dataframe\">\n",
       "  <thead>\n",
       "    <tr style=\"text-align: right;\">\n",
       "      <th></th>\n",
       "      <th>bin_number</th>\n",
       "      <th>value</th>\n",
       "      <th>count</th>\n",
       "    </tr>\n",
       "  </thead>\n",
       "  <tbody>\n",
       "    <tr>\n",
       "      <th>0</th>\n",
       "      <td>1</td>\n",
       "      <td>1</td>\n",
       "      <td>1653</td>\n",
       "    </tr>\n",
       "    <tr>\n",
       "      <th>1</th>\n",
       "      <td>2</td>\n",
       "      <td>2</td>\n",
       "      <td>1727</td>\n",
       "    </tr>\n",
       "    <tr>\n",
       "      <th>2</th>\n",
       "      <td>3</td>\n",
       "      <td>3</td>\n",
       "      <td>1630</td>\n",
       "    </tr>\n",
       "    <tr>\n",
       "      <th>3</th>\n",
       "      <td>4</td>\n",
       "      <td>4</td>\n",
       "      <td>1675</td>\n",
       "    </tr>\n",
       "    <tr>\n",
       "      <th>4</th>\n",
       "      <td>5</td>\n",
       "      <td>5</td>\n",
       "      <td>1664</td>\n",
       "    </tr>\n",
       "    <tr>\n",
       "      <th>5</th>\n",
       "      <td>6</td>\n",
       "      <td>6</td>\n",
       "      <td>1651</td>\n",
       "    </tr>\n",
       "    <tr>\n",
       "      <th>6</th>\n",
       "      <td>7</td>\n",
       "      <td>0</td>\n",
       "      <td>0</td>\n",
       "    </tr>\n",
       "    <tr>\n",
       "      <th>7</th>\n",
       "      <td>8</td>\n",
       "      <td>0</td>\n",
       "      <td>0</td>\n",
       "    </tr>\n",
       "    <tr>\n",
       "      <th>8</th>\n",
       "      <td>9</td>\n",
       "      <td>0</td>\n",
       "      <td>0</td>\n",
       "    </tr>\n",
       "    <tr>\n",
       "      <th>9</th>\n",
       "      <td>10</td>\n",
       "      <td>0</td>\n",
       "      <td>0</td>\n",
       "    </tr>\n",
       "  </tbody>\n",
       "</table>\n",
       "</div>"
      ],
      "text/plain": [
       "   bin_number  value  count\n",
       "0           1      1   1653\n",
       "1           2      2   1727\n",
       "2           3      3   1630\n",
       "3           4      4   1675\n",
       "4           5      5   1664\n",
       "5           6      6   1651\n",
       "6           7      0      0\n",
       "7           8      0      0\n",
       "8           9      0      0\n",
       "9          10      0      0"
      ]
     },
     "execution_count": 3,
     "metadata": {},
     "output_type": "execute_result"
    }
   ],
   "source": [
    "# Frequency table:\n",
    "n_bins = 10\n",
    "d = {}\n",
    "value_mapper = {1:1, 2:2, 3:3, 4:4, 5:5, 6:6, 7:0, 8:0, 9:0, 10:0}\n",
    "for i in range(1, n_bins+1):\n",
    "    d[i] = rolls.count(i)\n",
    "data = {'bin_number': [i for i in range(1, n_bins+1)], \n",
    "        'value': [value_mapper[i] for i in range(1, n_bins+1)],\n",
    "        'count': [d[i] for i in range(1, n_bins+1)]}\n",
    "df = pd.DataFrame.from_dict(data)\n",
    "df.head(10)"
   ]
  },
  {
   "cell_type": "code",
   "execution_count": 4,
   "metadata": {},
   "outputs": [
    {
     "data": {
      "image/png": "[encoded data removed]",
      "text/plain": [
       "<Figure size 432x288 with 1 Axes>"
      ]
     },
     "metadata": {
      "needs_background": "light"
     },
     "output_type": "display_data"
    }
   ],
   "source": [
    "# Histogram -> does it make sense here?\n",
    "hist = rolls_df.hist(bins=n_bins)"
   ]
  },
  {
   "cell_type": "code",
   "execution_count": 8,
   "metadata": {},
   "outputs": [
    {
     "data": {
      "image/png": "[encoded data removed]",
      "text/plain": [
       "<Figure size 432x288 with 1 Axes>"
      ]
     },
     "metadata": {
      "needs_background": "light"
     },
     "output_type": "display_data"
    }
   ],
   "source": [
    "# QQplot or probplot. it's a weird looking one, since it is a descrete distribution\n",
    "ax1 = plt.subplot()\n",
    "chart = stats.probplot(rolls, plot=plt)"
   ]
  },
  {
   "cell_type": "code",
   "execution_count": 81,
   "metadata": {},
   "outputs": [
    {
     "data": {
      "text/html": [
       "<div>\n",
       "<style scoped>\n",
       "    .dataframe tbody tr th:only-of-type {\n",
       "        vertical-align: middle;\n",
       "    }\n",
       "\n",
       "    .dataframe tbody tr th {\n",
       "        vertical-align: top;\n",
       "    }\n",
       "\n",
       "    .dataframe thead th {\n",
       "        text-align: right;\n",
       "    }\n",
       "</style>\n",
       "<table border=\"1\" class=\"dataframe\">\n",
       "  <thead>\n",
       "    <tr style=\"text-align: right;\">\n",
       "      <th></th>\n",
       "      <th>Gender</th>\n",
       "      <th>Event</th>\n",
       "      <th>Location</th>\n",
       "      <th>Year</th>\n",
       "      <th>Medal</th>\n",
       "      <th>Name</th>\n",
       "      <th>Nationality</th>\n",
       "      <th>Result</th>\n",
       "    </tr>\n",
       "  </thead>\n",
       "  <tbody>\n",
       "    <tr>\n",
       "      <th>0</th>\n",
       "      <td>M</td>\n",
       "      <td>100M Men</td>\n",
       "      <td>Rio</td>\n",
       "      <td>2016</td>\n",
       "      <td>G</td>\n",
       "      <td>Usain BOLT</td>\n",
       "      <td>JAM</td>\n",
       "      <td>2.380472</td>\n",
       "    </tr>\n",
       "    <tr>\n",
       "      <th>1</th>\n",
       "      <td>M</td>\n",
       "      <td>100M Men</td>\n",
       "      <td>Rio</td>\n",
       "      <td>2016</td>\n",
       "      <td>S</td>\n",
       "      <td>Justin GATLIN</td>\n",
       "      <td>USA</td>\n",
       "      <td>2.387845</td>\n",
       "    </tr>\n",
       "    <tr>\n",
       "      <th>2</th>\n",
       "      <td>M</td>\n",
       "      <td>100M Men</td>\n",
       "      <td>Rio</td>\n",
       "      <td>2016</td>\n",
       "      <td>B</td>\n",
       "      <td>Andre DE GRASSE</td>\n",
       "      <td>CAN</td>\n",
       "      <td>2.389680</td>\n",
       "    </tr>\n",
       "    <tr>\n",
       "      <th>3</th>\n",
       "      <td>M</td>\n",
       "      <td>100M Men</td>\n",
       "      <td>Beijing</td>\n",
       "      <td>2008</td>\n",
       "      <td>G</td>\n",
       "      <td>Usain BOLT</td>\n",
       "      <td>JAM</td>\n",
       "      <td>2.369309</td>\n",
       "    </tr>\n",
       "    <tr>\n",
       "      <th>4</th>\n",
       "      <td>M</td>\n",
       "      <td>100M Men</td>\n",
       "      <td>Beijing</td>\n",
       "      <td>2008</td>\n",
       "      <td>S</td>\n",
       "      <td>Richard THOMPSON</td>\n",
       "      <td>TTO</td>\n",
       "      <td>2.387845</td>\n",
       "    </tr>\n",
       "  </tbody>\n",
       "</table>\n",
       "</div>"
      ],
      "text/plain": [
       "  Gender     Event Location  Year Medal              Name Nationality  \\\n",
       "0      M  100M Men      Rio  2016     G        Usain BOLT         JAM   \n",
       "1      M  100M Men      Rio  2016     S     Justin GATLIN         USA   \n",
       "2      M  100M Men      Rio  2016     B   Andre DE GRASSE         CAN   \n",
       "3      M  100M Men  Beijing  2008     G        Usain BOLT         JAM   \n",
       "4      M  100M Men  Beijing  2008     S  Richard THOMPSON         TTO   \n",
       "\n",
       "     Result  \n",
       "0  2.380472  \n",
       "1  2.387845  \n",
       "2  2.389680  \n",
       "3  2.369309  \n",
       "4  2.387845  "
      ]
     },
     "execution_count": 81,
     "metadata": {},
     "output_type": "execute_result"
    }
   ],
   "source": [
    "# Normal Distribution (Bell curve, Gaussian) -> Nope+) Example to detect what is this\n",
    "normal_df = pd.read_csv('data/100m.csv')\n",
    "normal_df['Result'] = normal_df['Result'].mask(normal_df['Result'].eq('None')).dropna()\n",
    "normal_df = normal_df[pd.notnull(normal_df['Result'])]\n",
    "normal_df['Result'] = normal_df['Result'].apply(lambda x: np.log(float(x)+1))\n",
    "normal_df.head()"
   ]
  },
  {
   "cell_type": "code",
   "execution_count": 82,
   "metadata": {},
   "outputs": [
    {
     "data": {
      "text/html": [
       "<div>\n",
       "<style scoped>\n",
       "    .dataframe tbody tr th:only-of-type {\n",
       "        vertical-align: middle;\n",
       "    }\n",
       "\n",
       "    .dataframe tbody tr th {\n",
       "        vertical-align: top;\n",
       "    }\n",
       "\n",
       "    .dataframe thead th {\n",
       "        text-align: right;\n",
       "    }\n",
       "</style>\n",
       "<table border=\"1\" class=\"dataframe\">\n",
       "  <thead>\n",
       "    <tr style=\"text-align: right;\">\n",
       "      <th></th>\n",
       "      <th>bin_number</th>\n",
       "      <th>value</th>\n",
       "      <th>count</th>\n",
       "    </tr>\n",
       "  </thead>\n",
       "  <tbody>\n",
       "    <tr>\n",
       "      <th>40</th>\n",
       "      <td>41</td>\n",
       "      <td>(2.09, 2.14)</td>\n",
       "      <td>0</td>\n",
       "    </tr>\n",
       "    <tr>\n",
       "      <th>41</th>\n",
       "      <td>42</td>\n",
       "      <td>(2.14, 2.19)</td>\n",
       "      <td>0</td>\n",
       "    </tr>\n",
       "    <tr>\n",
       "      <th>42</th>\n",
       "      <td>43</td>\n",
       "      <td>(2.19, 2.24)</td>\n",
       "      <td>0</td>\n",
       "    </tr>\n",
       "    <tr>\n",
       "      <th>43</th>\n",
       "      <td>44</td>\n",
       "      <td>(2.24, 2.3)</td>\n",
       "      <td>0</td>\n",
       "    </tr>\n",
       "    <tr>\n",
       "      <th>44</th>\n",
       "      <td>45</td>\n",
       "      <td>(2.3, 2.35)</td>\n",
       "      <td>0</td>\n",
       "    </tr>\n",
       "    <tr>\n",
       "      <th>45</th>\n",
       "      <td>46</td>\n",
       "      <td>(2.35, 2.4)</td>\n",
       "      <td>24</td>\n",
       "    </tr>\n",
       "    <tr>\n",
       "      <th>46</th>\n",
       "      <td>47</td>\n",
       "      <td>(2.4, 2.45)</td>\n",
       "      <td>31</td>\n",
       "    </tr>\n",
       "    <tr>\n",
       "      <th>47</th>\n",
       "      <td>48</td>\n",
       "      <td>(2.45, 2.51)</td>\n",
       "      <td>60</td>\n",
       "    </tr>\n",
       "    <tr>\n",
       "      <th>48</th>\n",
       "      <td>49</td>\n",
       "      <td>(2.51, 2.56)</td>\n",
       "      <td>15</td>\n",
       "    </tr>\n",
       "    <tr>\n",
       "      <th>49</th>\n",
       "      <td>50</td>\n",
       "      <td>(2.56, 2.61)</td>\n",
       "      <td>6</td>\n",
       "    </tr>\n",
       "  </tbody>\n",
       "</table>\n",
       "</div>"
      ],
      "text/plain": [
       "    bin_number         value  count\n",
       "40          41  (2.09, 2.14)      0\n",
       "41          42  (2.14, 2.19)      0\n",
       "42          43  (2.19, 2.24)      0\n",
       "43          44   (2.24, 2.3)      0\n",
       "44          45   (2.3, 2.35)      0\n",
       "45          46   (2.35, 2.4)     24\n",
       "46          47   (2.4, 2.45)     31\n",
       "47          48  (2.45, 2.51)     60\n",
       "48          49  (2.51, 2.56)     15\n",
       "49          50  (2.56, 2.61)      6"
      ]
     },
     "execution_count": 82,
     "metadata": {},
     "output_type": "execute_result"
    }
   ],
   "source": [
    "# Frequency table\n",
    "n_bins = 50\n",
    "def compute_bins(n_bins, input_df, target_column):\n",
    "    \"\"\" compute the data slices for every bin \"\"\"\n",
    "    d = {}\n",
    "    step = max(input_df[target_column]) / n_bins\n",
    "    for i in range(n_bins+1):\n",
    "        d[i+1] = (round(i*step, 2), round((i+1)*step, 2))\n",
    "    return d\n",
    "\n",
    "def in_range(inp, range):\n",
    "    \"\"\" helper float comparison \"\"\"\n",
    "    return inp >= range[0] and inp < range[1]\n",
    "\n",
    "value_mapper = compute_bins(n_bins, normal_df[normal_df['Gender'] == 'M'], 'Result')\n",
    "count = []\n",
    "for i in range(1, n_bins+1):\n",
    "    count.append(normal_df['Result'][normal_df['Result'].apply(lambda x: in_range(x, value_mapper[i]))].count())\n",
    "data = {'bin_number': [i for i in range(1, n_bins+1)], \n",
    "        'value': [value_mapper[i] for i in range(1, n_bins+1)],\n",
    "        'count': count}\n",
    "df = pd.DataFrame.from_dict(data)\n",
    "df.tail(10)"
   ]
  },
  {
   "cell_type": "code",
   "execution_count": 83,
   "metadata": {},
   "outputs": [
    {
     "data": {
      "image/png": "[encoded data removed]",
      "text/plain": [
       "<Figure size 432x288 with 1 Axes>"
      ]
     },
     "metadata": {
      "needs_background": "light"
     },
     "output_type": "display_data"
    }
   ],
   "source": [
    "# Histogram -> does it make sense here?\n",
    "hist = normal_df['Result'].hist(bins=n_bins)"
   ]
  },
  {
   "cell_type": "code",
   "execution_count": 84,
   "metadata": {},
   "outputs": [
    {
     "data": {
      "image/png": "[encoded data removed]",
      "text/plain": [
       "<Figure size 432x288 with 1 Axes>"
      ]
     },
     "metadata": {
      "needs_background": "light"
     },
     "output_type": "display_data"
    }
   ],
   "source": [
    "# QQplot or probplot. it's a weird looking one, since it is a descrete distribution\n",
    "ax1 = plt.subplot()\n",
    "chart = stats.probplot(normal_df['Result'], plot=plt)"
   ]
  },
  {
   "cell_type": "code",
   "execution_count": null,
   "metadata": {},
   "outputs": [],
   "source": []
  }
 ],
 "metadata": {
  "kernelspec": {
   "display_name": "Python 3",
   "language": "python",
   "name": "python3"
  },
  "language_info": {
   "codemirror_mode": {
    "name": "ipython",
    "version": 3
   },
   "file_extension": ".py",
   "mimetype": "text/x-python",
   "name": "python",
   "nbconvert_exporter": "python",
   "pygments_lexer": "ipython3",
   "version": "3.7.2"
  }
 },
 "nbformat": 4,
 "nbformat_minor": 2
}
